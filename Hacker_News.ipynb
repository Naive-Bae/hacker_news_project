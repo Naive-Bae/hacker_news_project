{
 "cells": [
  {
   "cell_type": "markdown",
   "metadata": {
    "collapsed": true
   },
   "source": [
    "# Predicting Community Engagement for Hacker News Posts\n",
    "\n",
    "This project will look at a sampling of approx. 20,000 user posts to the Hacker News online forum ([dataset](https://www.kaggle.com/hacker-news/hacker-news-posts) available here).\n",
    "\n",
    "The data set includes the following:\n",
    "\n",
    "* id (Hacker News's unique comment ID number)\n",
    "* title (post's title)\n",
    "* url (url that the post links to)\n",
    "* num_points (number of upvotes post received minus number of downvotes post received)\n",
    "* num_comments (number of user comments on post)\n",
    "* author (name of post's author)\n",
    "* created_at (date and time of post - in %-m/%-d/%Y %-H:%M format)\n",
    "\n",
    "Specifically, the project will examine two primary classes of posts: those whose titles begin with either `Ask HN` or `Show HN`. \n",
    "\n",
    "`Ask HN` are posts to ask the Hacker News community a specific question.\n",
    "\n",
    "`Show HN` are posts to show the Hacker News community a project, product, or just generally something interesting.\n",
    "\n",
    "We'll compare these two categories of posts to deterimine the following:\n",
    "\n",
    "* Do `Ask HN` or `Show HN` posts receive more comments on average?\n",
    "* Do posts created at a certain time receive more comments on average?\n",
    "* Do `Ask HN` or `Show HN` posts receive more points on average?\n",
    "* Do posts created at a certain time receive more points on average?\n"
   ]
  },
  {
   "cell_type": "code",
   "execution_count": 1,
   "metadata": {
    "collapsed": false
   },
   "outputs": [
    {
     "name": "stdout",
     "output_type": "stream",
     "text": [
      "[['id', 'title', 'url', 'num_points', 'num_comments', 'author', 'created_at'], ['12224879', 'Interactive Dynamic Video', 'http://www.interactivedynamicvideo.com/', '386', '52', 'ne0phyte', '8/4/2016 11:52'], ['10975351', 'How to Use Open Source and Shut the Fuck Up at the Same Time', 'http://hueniverse.com/2016/01/26/how-to-use-open-source-and-shut-the-fuck-up-at-the-same-time/', '39', '10', 'josep2', '1/26/2016 19:30'], ['11964716', \"Florida DJs May Face Felony for April Fools' Water Joke\", 'http://www.thewire.com/entertainment/2013/04/florida-djs-april-fools-water-joke/63798/', '2', '1', 'vezycash', '6/23/2016 22:20'], ['11919867', 'Technology ventures: From Idea to Enterprise', 'https://www.amazon.com/Technology-Ventures-Enterprise-Thomas-Byers/dp/0073523429', '3', '1', 'hswarna', '6/17/2016 0:01']]\n"
     ]
    }
   ],
   "source": [
    "from csv import reader\n",
    "opened_file = open(\"hacker_news.csv\")\n",
    "read_file = reader(opened_file)\n",
    "hn = list(read_file)\n",
    "\n",
    "print(hn[:5])"
   ]
  },
  {
   "cell_type": "markdown",
   "metadata": {},
   "source": [
    "Next, we'll assign the header row to its own variable `headers`, and remove the header row from the rest of the data set."
   ]
  },
  {
   "cell_type": "code",
   "execution_count": 2,
   "metadata": {
    "collapsed": false
   },
   "outputs": [
    {
     "name": "stdout",
     "output_type": "stream",
     "text": [
      "['id', 'title', 'url', 'num_points', 'num_comments', 'author', 'created_at']\n",
      "\n",
      "\n",
      "[['12224879', 'Interactive Dynamic Video', 'http://www.interactivedynamicvideo.com/', '386', '52', 'ne0phyte', '8/4/2016 11:52'], ['10975351', 'How to Use Open Source and Shut the Fuck Up at the Same Time', 'http://hueniverse.com/2016/01/26/how-to-use-open-source-and-shut-the-fuck-up-at-the-same-time/', '39', '10', 'josep2', '1/26/2016 19:30']]\n"
     ]
    }
   ],
   "source": [
    "headers = hn[0]\n",
    "hn = hn[1:]\n",
    "\n",
    "print(headers)\n",
    "print(\"\\n\")\n",
    "print(hn[:2])"
   ]
  },
  {
   "cell_type": "markdown",
   "metadata": {},
   "source": [
    "Next, we'll separate the posts into three separate lists, depending on what type of post they are - Ask, Show, or Other. Then we'll check the length of each list."
   ]
  },
  {
   "cell_type": "code",
   "execution_count": 3,
   "metadata": {
    "collapsed": false
   },
   "outputs": [
    {
     "name": "stdout",
     "output_type": "stream",
     "text": [
      "1744\n",
      "\n",
      "\n",
      "1162\n",
      "\n",
      "\n",
      "17194\n"
     ]
    }
   ],
   "source": [
    "ask_posts = []\n",
    "show_posts = []\n",
    "other_posts = []\n",
    "\n",
    "for row in hn:\n",
    "    Title = row[1]\n",
    "    title = Title.lower()\n",
    "    if title.startswith(\"ask hn\"):\n",
    "        ask_posts.append(row)\n",
    "    elif title.startswith(\"show hn\"):\n",
    "        show_posts.append(row)\n",
    "    else:\n",
    "        other_posts.append(row)\n",
    "        \n",
    "print(len(ask_posts))\n",
    "print(\"\\n\")\n",
    "print(len(show_posts))\n",
    "print(\"\\n\")\n",
    "print(len(other_posts))"
   ]
  },
  {
   "cell_type": "markdown",
   "metadata": {},
   "source": [
    "Next, we'll find the total number of comments for each category (Ask and Show) and calculate the average number of comments per post in the category."
   ]
  },
  {
   "cell_type": "code",
   "execution_count": 4,
   "metadata": {
    "collapsed": false
   },
   "outputs": [
    {
     "name": "stdout",
     "output_type": "stream",
     "text": [
      "14.038417431192661\n",
      "10.31669535283993\n"
     ]
    }
   ],
   "source": [
    "total_ask_comments = 0\n",
    "\n",
    "for row in ask_posts:\n",
    "    comments = int(row[4])\n",
    "    total_ask_comments += comments\n",
    "    \n",
    "avg_ask_comments = total_ask_comments / len(ask_posts)\n",
    "\n",
    "total_show_comments = 0\n",
    "\n",
    "for row in show_posts:\n",
    "    comments = int(row[4])\n",
    "    total_show_comments += comments\n",
    "    \n",
    "avg_show_comments = total_show_comments / len(show_posts)\n",
    "\n",
    "print(avg_ask_comments)\n",
    "print(avg_show_comments)"
   ]
  },
  {
   "cell_type": "markdown",
   "metadata": {},
   "source": [
    "As shown above, posts in the Ask category receive approx. four more comments per post on average than posts in the Show category.\n",
    "\n",
    "From this point, we'll focus our remaining comments analysis on just the Ask posts, since they are more likely to generate comments.\n",
    "\n",
    "The next step is to determine if Ask posts are more or less likely to receive comments depending on the posting time. "
   ]
  },
  {
   "cell_type": "code",
   "execution_count": 5,
   "metadata": {
    "collapsed": false
   },
   "outputs": [
    {
     "name": "stdout",
     "output_type": "stream",
     "text": [
      "[['8/16/2016 9:55', 6], ['11/22/2015 13:43', 29]]\n",
      "\n",
      "\n",
      "{0: 55, 1: 60, 2: 58, 3: 54, 4: 47, 5: 46, 6: 44, 7: 34, 8: 48, 9: 45, 10: 59, 11: 58, 12: 73, 13: 85, 14: 107, 15: 116, 16: 108, 17: 100, 18: 109, 19: 110, 20: 80, 21: 109, 22: 71, 23: 68}\n",
      "\n",
      "\n",
      "{0: 447, 1: 683, 2: 1381, 3: 421, 4: 337, 5: 464, 6: 397, 7: 267, 8: 492, 9: 251, 10: 793, 11: 641, 12: 687, 13: 1253, 14: 1416, 15: 4477, 16: 1814, 17: 1146, 18: 1439, 19: 1188, 20: 1722, 21: 1745, 22: 479, 23: 543}\n"
     ]
    }
   ],
   "source": [
    "import datetime as dt\n",
    "\n",
    "result_list = []\n",
    "\n",
    "for row in ask_posts:\n",
    "    ask_list = []\n",
    "    time = row[6]\n",
    "    comments = int(row[4])\n",
    "    ask_list.append(time)\n",
    "    ask_list.append(comments)\n",
    "    result_list.append(ask_list)\n",
    "    \n",
    "print(result_list[:2])\n",
    "\n",
    "posts_by_hour = {}\n",
    "comments_by_hour = {}\n",
    "\n",
    "for row in result_list:\n",
    "    time = row[0]\n",
    "    comments = row[1]\n",
    "    time_dt = dt.datetime.strptime(time, \"%m/%d/%Y %H:%M\")\n",
    "    hour = time_dt.hour\n",
    "    if hour in posts_by_hour:\n",
    "        posts_by_hour[hour] += 1        \n",
    "    else:\n",
    "        posts_by_hour[hour] = 1\n",
    "    if hour in comments_by_hour:\n",
    "        comments_by_hour[hour] += comments\n",
    "    else:\n",
    "        comments_by_hour[hour] = comments\n",
    "        \n",
    "print('\\n')\n",
    "print(posts_by_hour)\n",
    "print('\\n')\n",
    "print(comments_by_hour)"
   ]
  },
  {
   "cell_type": "markdown",
   "metadata": {},
   "source": [
    "In the cell above, we created the following variables (remember, this is just for the Ask posts):\n",
    "\n",
    "* `result_list` - This is a list of lists, with each inner list comprised of two elements: The time of the post (as a str), and the number of comments the post received (as an int).\n",
    "\n",
    "\n",
    "* `posts_by_hour` - This is a dictionary containing a frequency table. Keys = hours (0-23); values = total number of posts made in each hour.\n",
    "\n",
    "\n",
    "* `comments_by_hour` - This is a dictionary containing a frequency table. Keys = hours (0-23); values = total number of comments made in each hour.\n",
    "\n",
    "Next, we will calculate the average number of comments per Ask post for each hour of the day. This will be stored as the variable `avg_by_hour`, a list of lists."
   ]
  },
  {
   "cell_type": "code",
   "execution_count": 6,
   "metadata": {
    "collapsed": false
   },
   "outputs": [
    {
     "name": "stdout",
     "output_type": "stream",
     "text": [
      "0 8.127272727272727\n",
      "1 11.383333333333333\n",
      "2 23.810344827586206\n",
      "3 7.796296296296297\n",
      "4 7.170212765957447\n",
      "5 10.08695652173913\n",
      "6 9.022727272727273\n",
      "7 7.852941176470588\n",
      "8 10.25\n",
      "9 5.5777777777777775\n",
      "10 13.440677966101696\n",
      "11 11.051724137931034\n",
      "12 9.41095890410959\n",
      "13 14.741176470588234\n",
      "14 13.233644859813085\n",
      "15 38.5948275862069\n",
      "16 16.796296296296298\n",
      "17 11.46\n",
      "18 13.20183486238532\n",
      "19 10.8\n",
      "20 21.525\n",
      "21 16.009174311926607\n",
      "22 6.746478873239437\n",
      "23 7.985294117647059\n"
     ]
    }
   ],
   "source": [
    "avg_by_hour = []\n",
    "\n",
    "for hour in posts_by_hour:\n",
    "    avg_by_hour.append([hour, (comments_by_hour[hour] / \n",
    "                              posts_by_hour[hour])])\n",
    "\n",
    "for hour in avg_by_hour:\n",
    "    print(*hour)"
   ]
  },
  {
   "cell_type": "markdown",
   "metadata": {},
   "source": [
    "This is the information we need, but it's not in the most readable format. Next, we'll sort the `avg_by_hour` list so it's ordered by average comment count, rather than by hour.\n",
    "\n",
    "We'll start by creating a new list, `swap_avg_by_hour`, wherein the columns and comment counts of `avg_by_hour` are reversed."
   ]
  },
  {
   "cell_type": "code",
   "execution_count": 7,
   "metadata": {
    "collapsed": false
   },
   "outputs": [
    {
     "name": "stdout",
     "output_type": "stream",
     "text": [
      "8.127272727272727 0\n",
      "11.383333333333333 1\n",
      "23.810344827586206 2\n",
      "7.796296296296297 3\n",
      "7.170212765957447 4\n",
      "10.08695652173913 5\n",
      "9.022727272727273 6\n",
      "7.852941176470588 7\n",
      "10.25 8\n",
      "5.5777777777777775 9\n",
      "13.440677966101696 10\n",
      "11.051724137931034 11\n",
      "9.41095890410959 12\n",
      "14.741176470588234 13\n",
      "13.233644859813085 14\n",
      "38.5948275862069 15\n",
      "16.796296296296298 16\n",
      "11.46 17\n",
      "13.20183486238532 18\n",
      "10.8 19\n",
      "21.525 20\n",
      "16.009174311926607 21\n",
      "6.746478873239437 22\n",
      "7.985294117647059 23\n"
     ]
    }
   ],
   "source": [
    "swap_avg_by_hour = []\n",
    "\n",
    "for row in avg_by_hour:\n",
    "    hour = row[0]\n",
    "    comments = row[1]\n",
    "    swap_avg_by_hour.append([comments, hour])\n",
    "    \n",
    "for row in swap_avg_by_hour:\n",
    "    print(*row)"
   ]
  },
  {
   "cell_type": "code",
   "execution_count": 8,
   "metadata": {
    "collapsed": false
   },
   "outputs": [
    {
     "name": "stdout",
     "output_type": "stream",
     "text": [
      "\n",
      "\n",
      "Top 5 Hours for Ask Post Comments:\n",
      "15:00: 38.59 average comments per post\n",
      "02:00: 23.81 average comments per post\n",
      "20:00: 21.52 average comments per post\n",
      "16:00: 16.80 average comments per post\n",
      "21:00: 16.01 average comments per post\n"
     ]
    }
   ],
   "source": [
    "sorted_swap = sorted(swap_avg_by_hour, reverse=True)\n",
    "\n",
    "print('\\n')\n",
    "print('Top 5 Hours for Ask Post Comments:')\n",
    "\n",
    "for row in sorted_swap[:5]:\n",
    "    hour = str(row[1])\n",
    "    hour_dt = dt.datetime.strptime(hour, \"%H\")\n",
    "    new_hour = hour_dt.strftime(\"%H:%M\")\n",
    "    output = \"{}: {:.2f} average comments per post\".format(\n",
    "    new_hour, row[0])\n",
    "    print(output)"
   ]
  },
  {
   "cell_type": "markdown",
   "metadata": {},
   "source": [
    "Based on our analysis, Ask HN posts during the hour of 15:00 (UTC -5) are most likely to generate comments."
   ]
  },
  {
   "cell_type": "markdown",
   "metadata": {},
   "source": [
    "Let's now examine which type of posts receive more points. Remember, points are the total number of upvotes given to a post less the total number of downvotes.\n",
    "\n",
    "We'll begin by calculating the total number of comments per category (Ask and Show), and then calculate the average number of points per post for each category."
   ]
  },
  {
   "cell_type": "code",
   "execution_count": 9,
   "metadata": {
    "collapsed": false
   },
   "outputs": [
    {
     "name": "stdout",
     "output_type": "stream",
     "text": [
      "15.061926605504587\n",
      "27.555077452667813\n"
     ]
    }
   ],
   "source": [
    "total_ask_points = 0\n",
    "\n",
    "for row in ask_posts:\n",
    "    points = int(row[3])\n",
    "    total_ask_points += points\n",
    "    \n",
    "total_show_points = 0\n",
    "    \n",
    "for row in show_posts:\n",
    "    points = int(row[3])\n",
    "    total_show_points += points\n",
    "\n",
    "ave_ask_points = total_ask_points / len(ask_posts)\n",
    "ave_show_points = total_show_points / len(show_posts)\n",
    "\n",
    "print(ave_ask_points)\n",
    "print(ave_show_points)"
   ]
  },
  {
   "cell_type": "markdown",
   "metadata": {},
   "source": [
    "We see here that Show posts receive on average nearly twice as many points per post as Ask posts. \n",
    "\n",
    "From this point, we'll focus our points analysis on the Show posts, since they are most likely to be upvoted.\n",
    "\n",
    "The next step is to determine if Show posts are more or less likely to be upvoted depending on the time of their posting."
   ]
  },
  {
   "cell_type": "code",
   "execution_count": 10,
   "metadata": {
    "collapsed": false
   },
   "outputs": [
    {
     "name": "stdout",
     "output_type": "stream",
     "text": [
      "[['11/25/2015 14:03', '26'], ['11/29/2015 22:46', '747']]\n"
     ]
    }
   ],
   "source": [
    "show_result_list = []\n",
    "\n",
    "for row in show_posts:\n",
    "    time = row[6]\n",
    "    points = row[3]\n",
    "    show_result_list.append([time, points])\n",
    "\n",
    "print(show_result_list[:2])"
   ]
  },
  {
   "cell_type": "code",
   "execution_count": 11,
   "metadata": {
    "collapsed": false
   },
   "outputs": [
    {
     "name": "stdout",
     "output_type": "stream",
     "text": [
      "{0: 31, 1: 28, 2: 30, 3: 27, 4: 26, 5: 19, 6: 16, 7: 26, 8: 34, 9: 30, 10: 36, 11: 44, 12: 61, 13: 99, 14: 86, 15: 78, 16: 93, 17: 93, 18: 61, 19: 55, 20: 60, 21: 47, 22: 46, 23: 36}\n",
      "\n",
      "\n",
      "{0: 1173, 1: 700, 2: 340, 3: 679, 4: 386, 5: 104, 6: 375, 7: 494, 8: 519, 9: 553, 10: 681, 11: 1480, 12: 2543, 13: 2438, 14: 2187, 15: 2228, 16: 2634, 17: 2521, 18: 2215, 19: 1702, 20: 1819, 21: 866, 22: 1856, 23: 1526}\n"
     ]
    }
   ],
   "source": [
    "show_posts_by_hour = {}\n",
    "show_points_by_hour = {}\n",
    "\n",
    "for row in show_result_list:\n",
    "    time = dt.datetime.strptime(row[0], \"%m/%d/%Y %H:%M\")\n",
    "    hour = time.hour\n",
    "    points = int(row[1])\n",
    "    if hour in show_posts_by_hour:\n",
    "        show_posts_by_hour[hour] += 1\n",
    "    else:\n",
    "        show_posts_by_hour[hour] = 1\n",
    "    if hour in show_points_by_hour:\n",
    "        show_points_by_hour[hour] += points\n",
    "    else:\n",
    "        show_points_by_hour[hour] = points\n",
    "      \n",
    "print(show_posts_by_hour)    \n",
    "print('\\n')\n",
    "print(show_points_by_hour)\n",
    "\n"
   ]
  },
  {
   "cell_type": "markdown",
   "metadata": {},
   "source": [
    "In the cells above, we created the following variables (remember, this is just for the Show posts):\n",
    "\n",
    "* `show_result_list` - This is a list of lists, with each inner list comprised of two elements: The time of the post (as a str), and the number of points the post received (as a str).\n",
    "\n",
    "\n",
    "* `show_posts_by_hour` - This is a dictionary containing a frequency table. Keys = hours (0-23); values = total number of posts made in each hour.\n",
    "\n",
    "\n",
    "* `show_points_by_hour` - This is a dictionary containing a frequency table. Keys = hours (0-23); values = total number of points received in each hour.\n",
    "\n",
    "Next, we will calculate the average number of points per Show post for each hour of the day. This will be stored as the variable `show_avg_by_hour`, a list of lists."
   ]
  },
  {
   "cell_type": "code",
   "execution_count": 12,
   "metadata": {
    "collapsed": false
   },
   "outputs": [
    {
     "name": "stdout",
     "output_type": "stream",
     "text": [
      "0 37.83870967741935\n",
      "1 25.0\n",
      "2 11.333333333333334\n",
      "3 25.14814814814815\n",
      "4 14.846153846153847\n",
      "5 5.473684210526316\n",
      "6 23.4375\n",
      "7 19.0\n",
      "8 15.264705882352942\n",
      "9 18.433333333333334\n",
      "10 18.916666666666668\n",
      "11 33.63636363636363\n",
      "12 41.68852459016394\n",
      "13 24.626262626262626\n",
      "14 25.430232558139537\n",
      "15 28.564102564102566\n",
      "16 28.322580645161292\n",
      "17 27.107526881720432\n",
      "18 36.31147540983606\n",
      "19 30.945454545454545\n",
      "20 30.316666666666666\n",
      "21 18.425531914893618\n",
      "22 40.34782608695652\n",
      "23 42.388888888888886\n"
     ]
    }
   ],
   "source": [
    "show_avg_by_hour = []\n",
    "\n",
    "for hour in show_posts_by_hour:\n",
    "    show_avg_by_hour.append([hour, show_points_by_hour[hour] / \n",
    "                            show_posts_by_hour[hour]])\n",
    "    \n",
    "for row in show_avg_by_hour:\n",
    "    print(*row)"
   ]
  },
  {
   "cell_type": "markdown",
   "metadata": {},
   "source": [
    "Again, this is the information we need, but it's not in the most readable format. Next, we'll sort the `show_avg_by_hour` list so it's ordered by average point count, rather than by hour.\n",
    "\n",
    "We'll start by creating a new list, `show_swap_avg_by_hour`, wherein the columns and comment counts of `avg_by_hour` are reversed."
   ]
  },
  {
   "cell_type": "code",
   "execution_count": 13,
   "metadata": {
    "collapsed": false
   },
   "outputs": [
    {
     "name": "stdout",
     "output_type": "stream",
     "text": [
      "37.83870967741935 0\n",
      "25.0 1\n",
      "11.333333333333334 2\n",
      "25.14814814814815 3\n",
      "14.846153846153847 4\n",
      "5.473684210526316 5\n",
      "23.4375 6\n",
      "19.0 7\n",
      "15.264705882352942 8\n",
      "18.433333333333334 9\n",
      "18.916666666666668 10\n",
      "33.63636363636363 11\n",
      "41.68852459016394 12\n",
      "24.626262626262626 13\n",
      "25.430232558139537 14\n",
      "28.564102564102566 15\n",
      "28.322580645161292 16\n",
      "27.107526881720432 17\n",
      "36.31147540983606 18\n",
      "30.945454545454545 19\n",
      "30.316666666666666 20\n",
      "18.425531914893618 21\n",
      "40.34782608695652 22\n",
      "42.388888888888886 23\n"
     ]
    }
   ],
   "source": [
    "show_swap_avg_by_hour = []\n",
    "\n",
    "for row in show_avg_by_hour:\n",
    "    show_swap_avg_by_hour.append([row[1], row[0]])\n",
    "    \n",
    "for row in show_swap_avg_by_hour:\n",
    "    print(*row)"
   ]
  },
  {
   "cell_type": "code",
   "execution_count": 14,
   "metadata": {
    "collapsed": false
   },
   "outputs": [
    {
     "name": "stdout",
     "output_type": "stream",
     "text": [
      "\n",
      "\n",
      "Top 5 Hours for Show Post Points:\n",
      "23:00: 42.39 average points per post\n",
      "12:00: 41.69 average points per post\n",
      "22:00: 40.35 average points per post\n",
      "00:00: 37.84 average points per post\n",
      "18:00: 36.31 average points per post\n"
     ]
    }
   ],
   "source": [
    "show_sorted_swap = sorted(show_swap_avg_by_hour, reverse=True)\n",
    "\n",
    "print('\\n')\n",
    "print('Top 5 Hours for Show Post Points:')\n",
    "\n",
    "for row in show_sorted_swap[:5]:\n",
    "    time = dt.datetime.strptime(str(row[1]), \"%H\")\n",
    "    hour = time.strftime(\"%H:%M\")\n",
    "    output = \"{}: {:.2f} average points per post\"\n",
    "    print(output.format(hour, row[0]))\n",
    "    "
   ]
  },
  {
   "cell_type": "markdown",
   "metadata": {},
   "source": [
    "## Summary\n",
    "\n",
    "From our analysis, we have seen that:\n",
    "\n",
    "* Ask posts are more likely to receive comments than Show posts.\n",
    "\n",
    "* Ask posts are most likely to receive comments during the hour of 15:00 (UTC -5).\n",
    "\n",
    "* Show posts are more likely to receive points than Ask posts.\n",
    "\n",
    "* Show posts are most likely to receive points during the hour of 23:00 (UTC -5).\n",
    "\n",
    "More broadly, we can also see by looking at the top five most active hours (for both Ask post comments and Show post points) that the times span from noon to 2:00 a.m., but that the greatest community engagement generally occurs in two time pockets: 3:00-6:00 p.m. and 8:00 p.m. to midnight. There are no daytime morning hours in the top 10. "
   ]
  }
 ],
 "metadata": {
  "kernelspec": {
   "display_name": "Python 3",
   "language": "python",
   "name": "python3"
  },
  "language_info": {
   "codemirror_mode": {
    "name": "ipython",
    "version": 3
   },
   "file_extension": ".py",
   "mimetype": "text/x-python",
   "name": "python",
   "nbconvert_exporter": "python",
   "pygments_lexer": "ipython3",
   "version": "3.4.3"
  }
 },
 "nbformat": 4,
 "nbformat_minor": 2
}
